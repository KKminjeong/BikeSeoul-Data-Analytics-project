{
 "cells": [
  {
   "cell_type": "markdown",
   "metadata": {},
   "source": [
    "# 세미프로젝트 1-2\n",
    "\n",
    "## 서울시 공공 자전거 연관 키워드 크롤링"
   ]
  },
  {
   "cell_type": "code",
   "execution_count": 1,
   "metadata": {},
   "outputs": [],
   "source": [
    "import requests \n",
    "from bs4 import BeautifulSoup\n",
    "from urllib.request import urlopen\n",
    "\n",
    "from selenium import webdriver\n",
    "from selenium.webdriver.common.by import By\n",
    "from selenium.webdriver.common.keys import Keys\n",
    "\n",
    "import pandas as pd\n",
    "from datetime import datetime\n",
    "import time \n",
    "import re"
   ]
  },
  {
   "cell_type": "markdown",
   "metadata": {},
   "source": [
    "### 1. 네이버 해시태그 크롤링"
   ]
  },
  {
   "cell_type": "code",
   "execution_count": 2,
   "metadata": {},
   "outputs": [
    {
     "name": "stdout",
     "output_type": "stream",
     "text": [
      "https://search.naver.com/search.naver?where=view&query=따릉이+후기&sm=tab_opt&nso=so%3Ar%2Cp%3Afrom20200101to20201231\n"
     ]
    }
   ],
   "source": [
    "query = '따릉이+후기'\n",
    "startdate = '20200101'\n",
    "finishdate = '20201231'\n",
    "\n",
    "url = \"https://search.naver.com/search.naver?where=view&query=\" + query + \"&sm=tab_opt&nso=so%3Ar%2Cp%3Afrom\" + startdate + \"to\" + finishdate\n",
    "\n",
    "print(url)"
   ]
  },
  {
   "cell_type": "code",
   "execution_count": 4,
   "metadata": {},
   "outputs": [
    {
     "name": "stdout",
     "output_type": "stream",
     "text": [
      "https://search.naver.com/search.naver?where=view&query=%EB%94%B0%EB%A6%89%EC%9D%B4+%ED%9B%84%EA%B8%B0&sm=tab_opt&nso=so%3Ar%2Cp%3Afrom20200101to20201231\n"
     ]
    }
   ],
   "source": [
    "driver = webdriver.Chrome() \n",
    "\n",
    "driver.get(url) # Get the page\n",
    "print(driver.current_url)"
   ]
  },
  {
   "cell_type": "code",
   "execution_count": 5,
   "metadata": {},
   "outputs": [
    {
     "name": "stdout",
     "output_type": "stream",
     "text": [
      "10943\n",
      "5793\n",
      "15854\n",
      "10943\n",
      "15854\n",
      "15854\n"
     ]
    }
   ],
   "source": [
    "driver.get(url)\n",
    "last_height = driver.execute_script(\"return document.body.scrollHeight\") #스크롤의 크기를 확인\n",
    "\n",
    "while True: \n",
    "    driver.execute_script(\"window.scrollTo(0, document.body.scrollHeight);\") #스크롤은 맨 아래로 내림\n",
    "    time.sleep(3)\n",
    "    new_height = driver.execute_script(\"return document.body.scrollHeight\") #다시한번 스크롤의 크기를 확인\n",
    "    print(new_height)\n",
    "    print(last_height)\n",
    "\n",
    "    if new_height == last_height: #처음에 확인한 스크롤의 크기와 맨 아래로 내린 후 확인한 스크롤의 크기를 비교\n",
    "        break\n",
    "    last_height = new_height"
   ]
  },
  {
   "cell_type": "code",
   "execution_count": 6,
   "metadata": {},
   "outputs": [],
   "source": [
    "source = BeautifulSoup(driver.page_source, 'html.parser')\n",
    "\n",
    "# 가상 브라우저 내 HTML 항목 모두 긁어옴"
   ]
  },
  {
   "cell_type": "code",
   "execution_count": 7,
   "metadata": {},
   "outputs": [
    {
     "name": "stdout",
     "output_type": "stream",
     "text": [
      "453\n"
     ]
    }
   ],
   "source": [
    "# 네이버 View 내 Hash-tag 추출\n",
    "\n",
    "view_tags = source.find_all('a', {'class' : 'tag'}) # ResultSet (리스트와 유사한 형태)\n",
    "\n",
    "tag_list = []\n",
    "\n",
    "for tag in view_tags:\n",
    "    tag_info = tag.get_text()\n",
    "    tag_info = tag_info.replace('#', '') # '#'을 제거\n",
    "    tag_list.append(tag_info)\n",
    "\n",
    "df_tag_list = pd.DataFrame(tag_list)\n",
    "\n",
    "df_tag_list.rename(columns = {0 : 'Title'}, inplace = True)\n",
    "\n",
    "df_tag_list.to_csv('따릉이_hashtag_keywords.csv', encoding='UTF-8', index=False)\n",
    "    \n",
    "print(len(tag_list))\n",
    "\n",
    "\n",
    "driver.close()\n",
    "driver.quit()"
   ]
  },
  {
   "cell_type": "markdown",
   "metadata": {},
   "source": [
    "### 2. 네이버 뉴스 크롤링"
   ]
  },
  {
   "cell_type": "code",
   "execution_count": 34,
   "metadata": {},
   "outputs": [],
   "source": [
    "query = '따릉이'\n",
    "\n",
    "start_date = '2019.01.01'\n",
    "end_date = '2019.12.31'\n",
    "\n",
    "max_page = 10"
   ]
  },
  {
   "cell_type": "code",
   "execution_count": 36,
   "metadata": {},
   "outputs": [
    {
     "name": "stdout",
     "output_type": "stream",
     "text": [
      "\n",
      "1번째 기사글부터 크롤링을 시작합니다.\n",
      "Processing article : 서울시민 60% \"공유정책 서비스 이용해봤다\"…'따릉이' 으뜸\n",
      "Processing article : ‘따릉이’ 서울 공유정책 인지도 1위\n",
      "Processing article : [르포] 제로페이 1년, 점주도 손님도 '생소하다'\n",
      "Processing article : 3년 연속…서울시민이 뽑은 1위 정책은 ‘따릉이'\n",
      "Processing article : [현장에선] 왜 ‘따릉이’밖에 없을까\n",
      "Processing article : 서울시, 올해 공유정책 만족도 ‘장난감’이 가장 높아\n",
      "Processing article : [서울 29초영화제 시상식] '따릉이' 타고 5분 레이스…독특한 설정으로 웃음 선사\n",
      "Processing article : 따릉이, 공공와이파이, 돌봄SOS “올해 서울시 최고 정책”\n",
      "\n",
      "11번째 기사글부터 크롤링을 시작합니다.\n",
      "Processing article : 서울시 10대 뉴스 1위, 3년 연속 '따릉이'\n",
      "Processing article : 4㎞내 사용자 71%...서울 '틈새 교통수단'된 따릉이\n",
      "Processing article : 서울시 \"따릉이 이용해 배달 엄격 금지\" 경고\n",
      "Processing article : '서울은 지금 따릉이 열풍'\n",
      "Processing article : 한국IT전문강사협동조합, 노인 위한 '따릉이 이용법' 영상 제작\n",
      "Processing article : 5등급車 못 다니는 서울 사대문 안, 버스신설·따릉이 2배 확대\n",
      "Processing article : 시민 편의 위해 만들었더니…'따릉이 배달' 골머리\n",
      "Processing article : 서울공공자전거 `따릉이` 운행중단…태풍 링링 북상 영향\n",
      "Processing article : 서울시 \"따릉이로 배달하지 마\"…배달대행 업체 난감\n",
      "Processing article : 유행처럼 번진 ‘따릉이 절도’…중고생 30여 명 입건\n",
      "\n",
      "21번째 기사글부터 크롤링을 시작합니다.\n",
      "Processing article : '따릉이' 도난방지 기능 추가…무단 이용시 수사 의뢰\n",
      "Processing article : '따릉이' 훔치는 청소년들…돈 때문이 아니다\n",
      "Processing article : 2019년 서울시 10대 정책 투표…따릉이 3년 연속 1위 도전\n",
      "Processing article : 서울 '따릉이'도 제로페이로 결제…연말까지 일일권 반값\n",
      "Processing article : ‘따릉이’ 이용 3000만건 돌파… 절반은 출퇴근용\n",
      "Processing article : 8월까지 정비 5만건… 따릉이가 빠르게 늙고 있다\n",
      "Processing article : “저감 장치 아직”…미세먼지 뿜는 5등급차, 1만5천대 딱 걸려\n",
      "Processing article : 서울 공공자전거 '따릉이'\n",
      "Processing article : 빌려쓰는 자전거라고 막 다루나요?.. 따릉이 수난시대 [당신의 양심]\n",
      "\n",
      "31번째 기사글부터 크롤링을 시작합니다.\n",
      "Processing article : [밀착카메라] 훔쳐가고, 버려지고…'따릉이' 수난\n",
      "Processing article : '따릉이' 고장 올해만 5만건…물받이>타이어>브레이크\n",
      "Processing article : 지구 2700바퀴 누빈 따릉이, 서울 '일상템' 됐어요\n",
      "Processing article : 따릉이·제로페이·청년주택...올해 서울시 정책 '10대 뉴스'는 무엇?\n",
      "Processing article : 서울시, 태풍으로 중단한 '따릉이' 11시부터 운영재개\n",
      "Processing article : [포토무비] '따릉이' '타슈'…알면 유익한 전국 공공자전거 이용법\n",
      "Processing article : 1㎞ 내 도난 따릉이 16대… 학생들 ‘훔치는 법’ 공유도 [이슈 속으로]\n",
      "Processing article : '따릉이 수리' 자전거대리점 25곳 모집…2∼8일 접수\n",
      "\n",
      "41번째 기사글부터 크롤링을 시작합니다.\n",
      "Processing article : 서울에 '따릉이' 있으면 의정부엔 공유 '전동킥보드'가 있다\n",
      "Processing article : '태풍 피해 예방' 서울어린이대공원·등산로·따릉이 전면통제\n",
      "Processing article : 따릉이가 아파트 단지안에? 공유자전거 사유하는 사람들\n",
      "Processing article : '링링 피해라'… 우체국·따릉이·어린이대공원 멈춘다\n",
      "Processing article : 서울시, 지상구조물·도로상부 등에 '자전거 하이웨이' 구축\n",
      "Processing article : [김진이 간다]대놓고 훔쳐가는 ‘70만 원짜리’ 따릉이\n",
      "Processing article : \"따릉이 도둑 잡아라\" 실시간 위치 추적기 부착\n",
      "Processing article : 태풍 ‘링링’ 북상, 서울 둘레길 등 입산 통제·‘따릉이’ 운행 중단\n",
      "Processing article : [2019 국감] '따릉이' 이용 3000만건 육박…적자 78억\n",
      "\n",
      "51번째 기사글부터 크롤링을 시작합니다.\n",
      "Processing article : 태양광·따릉이·하천정비… 이런게 '性평등 사업' 입니까\n",
      "Processing article : '따릉이' 태풍으로 운영 중단\n",
      "Processing article : \"자전거 전용도로 생기면 ‘따릉이’ 1시간 생활권 가능해질 것\" [인터뷰]\n",
      "Processing article : [14F] 따릉이로 배달 알바? ㄴㄴ해\n",
      "Processing article : '따릉이' 운영 중지\n",
      "Processing article : 태풍 ‘링링’ 어린이대공원 폐쇄·따릉이 운행중단\n",
      "Processing article : 박원순, 서울에 '자전거 고속도로' 조성…\"자전거 혁명 이룰 것\"\n",
      "*** 다음 링크의 뉴스를 크롤링하는 중 에러가 발생했습니다 : https://news.naver.com/main/read.nhn?mode=LSD&mid=sec&sid1=106&oid=421&aid=0004279161\n",
      "\n",
      "61번째 기사글부터 크롤링을 시작합니다.\n",
      "Processing article : 같은 공공자전거인데…서울 '따릉이'가 수원 '반디클'보다 年운영비 3배 더 드네\n",
      "Processing article : [기자의 일상] 따릉이는 돈 먹는 하마?\n",
      "*** 다음 링크의 뉴스를 크롤링하는 중 에러가 발생했습니다 : https://news.naver.com/main/read.nhn?mode=LSD&mid=sec&sid1=106&oid=009&aid=0004454970\n",
      "Processing article : '국민자전거' 된 따릉이…친환경 교통수단될까?\n",
      "*** 다음 링크의 뉴스를 크롤링하는 중 에러가 발생했습니다 : https://news.naver.com/main/read.nhn?mode=LSD&mid=sec&sid1=106&oid=410&aid=0000642357\n",
      "*** 다음 링크의 뉴스를 크롤링하는 중 에러가 발생했습니다 : https://news.naver.com/main/read.nhn?mode=LSD&mid=sec&sid1=106&oid=057&aid=0001392634\n",
      "*** 다음 링크의 뉴스를 크롤링하는 중 에러가 발생했습니다 : https://news.naver.com/main/read.nhn?mode=LSD&mid=sec&sid1=106&oid=081&aid=0003040023\n",
      "Processing article : 서울시, '따릉이' 도난방지 기능 추가…무단 이용시 수사 의뢰\n",
      "\n",
      "71번째 기사글부터 크롤링을 시작합니다.\n",
      "Processing article : [단독]'따릉이' 제로페이로 결제 땐 반값\n",
      "*** 다음 링크의 뉴스를 크롤링하는 중 에러가 발생했습니다 : https://news.naver.com/main/read.nhn?mode=LSD&mid=sec&sid1=106&oid=082&aid=0000939391\n",
      "Processing article : 밤길 여성 울리는 '인천 따릉이'…자전거 타고 다니며 3명 추행\n",
      "Processing article : 서울에 '자전거 하이웨이' 생긴다\n",
      "Processing article : 박원순 야심작 '자전거하이웨이'…\"수요 있을까\" 우려도\n",
      "*** 다음 링크의 뉴스를 크롤링하는 중 에러가 발생했습니다 : https://news.naver.com/main/read.nhn?mode=LSD&mid=sec&sid1=106&oid=112&aid=0003209646\n",
      "\n",
      "81번째 기사글부터 크롤링을 시작합니다.\n",
      "*** 다음 링크의 뉴스를 크롤링하는 중 에러가 발생했습니다 : https://news.naver.com/main/read.nhn?mode=LSD&mid=sec&sid1=106&oid=108&aid=0002801990\n",
      "Processing article : '역대급 태풍'에 입산 통제·주말행사 취소·대공원 폐쇄(종합2보)\n",
      "\n",
      "91번째 기사글부터 크롤링을 시작합니다.\n",
      "Processing article : 가족끼리… 연인끼리… 두바퀴로 누빈 서울\n",
      "Processing article : [피플 & 스토리] “2030년 서울은 심각한 노후도시…뒷 세대에 마이너스 유산 남겨선 안돼”\n",
      "Processing article : “사람이 시스템…따릉이 뒤에 있는 사람들을 생각해주세요”｜이슈파이 ‘따릉이 구출기’ ② [영상]\n"
     ]
    }
   ],
   "source": [
    "titles = []\n",
    "\n",
    "start_date = start_date.replace(\".\", \"\")\n",
    "end_date = end_date.replace(\".\", \"\")\n",
    "\n",
    "\n",
    "current_call = 1\n",
    "last_call = (max_page - 1) * 10 + 1 \n",
    "\n",
    "while current_call <= last_call:\n",
    "    \n",
    "    print('\\n{}번째 기사글부터 크롤링을 시작합니다.'.format(current_call))\n",
    "    \n",
    "    url = \"https://search.naver.com/search.naver?where=news&query=\" + query \\\n",
    "          + \"&nso=so%3Ar%2Cp%3Afrom\" + start_date \\\n",
    "          + \"to\" + end_date \\\n",
    "          + \"%2Ca%3A&start=\" + str(current_call)\n",
    "\n",
    "    web = requests.get(url).content\n",
    "    source = BeautifulSoup(web, 'html.parser')\n",
    "\n",
    "    urls_list = []\n",
    "    for urls in source.find_all('a', {'class' : \"info\"}):\n",
    "        if urls[\"href\"].startswith(\"https://news.naver.com\"):\n",
    "            urls_list.append(urls[\"href\"])\n",
    "\n",
    "    for url in urls_list:\n",
    "        try:\n",
    "            headers = {'User-Agent':'Mozilla/5.0 (Windows NT 6.3; Win64; x64) AppleWebKit/537.36 (KHTML, like Gecko) Chrome/63.0.3239.132 Safari/537.36'}\n",
    "            web_news = requests.get(url, headers=headers).content\n",
    "            source_news = BeautifulSoup(web_news, 'html.parser')\n",
    "\n",
    "            title = source_news.find('h3', {'id' : 'articleTitle'}).get_text()\n",
    "            print('Processing article : {}'.format(title))\n",
    "\n",
    "        \n",
    "        \n",
    "            titles.append(title)\n",
    "          \n",
    "        except:\n",
    "            print('*** 다음 링크의 뉴스를 크롤링하는 중 에러가 발생했습니다 : {}'.format(url))\n",
    "            \n",
    "   \n",
    "    time.sleep(5)\n",
    "    current_call += 10\n",
    "    \n",
    "    "
   ]
  },
  {
   "cell_type": "code",
   "execution_count": 37,
   "metadata": {},
   "outputs": [
    {
     "data": {
      "text/html": [
       "<div>\n",
       "<style scoped>\n",
       "    .dataframe tbody tr th:only-of-type {\n",
       "        vertical-align: middle;\n",
       "    }\n",
       "\n",
       "    .dataframe tbody tr th {\n",
       "        vertical-align: top;\n",
       "    }\n",
       "\n",
       "    .dataframe thead th {\n",
       "        text-align: right;\n",
       "    }\n",
       "</style>\n",
       "<table border=\"1\" class=\"dataframe\">\n",
       "  <thead>\n",
       "    <tr style=\"text-align: right;\">\n",
       "      <th></th>\n",
       "      <th>Title</th>\n",
       "    </tr>\n",
       "  </thead>\n",
       "  <tbody>\n",
       "    <tr>\n",
       "      <th>0</th>\n",
       "      <td>서울시민 60% \"공유정책 서비스 이용해봤다\"…'따릉이' 으뜸</td>\n",
       "    </tr>\n",
       "    <tr>\n",
       "      <th>1</th>\n",
       "      <td>‘따릉이’ 서울 공유정책 인지도 1위</td>\n",
       "    </tr>\n",
       "    <tr>\n",
       "      <th>2</th>\n",
       "      <td>[르포] 제로페이 1년, 점주도 손님도 '생소하다'</td>\n",
       "    </tr>\n",
       "    <tr>\n",
       "      <th>3</th>\n",
       "      <td>3년 연속…서울시민이 뽑은 1위 정책은 ‘따릉이'</td>\n",
       "    </tr>\n",
       "    <tr>\n",
       "      <th>4</th>\n",
       "      <td>[현장에선] 왜 ‘따릉이’밖에 없을까</td>\n",
       "    </tr>\n",
       "  </tbody>\n",
       "</table>\n",
       "</div>"
      ],
      "text/plain": [
       "                                Title\n",
       "0  서울시민 60% \"공유정책 서비스 이용해봤다\"…'따릉이' 으뜸\n",
       "1                ‘따릉이’ 서울 공유정책 인지도 1위\n",
       "2        [르포] 제로페이 1년, 점주도 손님도 '생소하다'\n",
       "3         3년 연속…서울시민이 뽑은 1위 정책은 ‘따릉이'\n",
       "4                [현장에선] 왜 ‘따릉이’밖에 없을까"
      ]
     },
     "execution_count": 37,
     "metadata": {},
     "output_type": "execute_result"
    }
   ],
   "source": [
    "naver_article_df = pd.DataFrame(titles)\n",
    "                          \n",
    "naver_article_df.rename(columns = {0 : 'Title'}, inplace = True)\n",
    "\n",
    "naver_article_df.to_csv('따릉이_naver_keywords.csv', index=False, encoding='utf-8')\n",
    "naver_article_df.head()"
   ]
  },
  {
   "cell_type": "markdown",
   "metadata": {},
   "source": [
    "### 3. 구글 페이지 크롤링"
   ]
  },
  {
   "cell_type": "code",
   "execution_count": 12,
   "metadata": {},
   "outputs": [],
   "source": [
    "max_page = 10\n",
    "current_call = 0\n",
    "last_call = (max_page - 1) * 10"
   ]
  },
  {
   "cell_type": "code",
   "execution_count": 14,
   "metadata": {},
   "outputs": [
    {
     "name": "stdout",
     "output_type": "stream",
     "text": [
      "\n",
      "0번째 페이지부터 크롤링을 시작합니다.\n",
      "\n",
      "10번째 페이지부터 크롤링을 시작합니다.\n",
      "\n",
      "20번째 페이지부터 크롤링을 시작합니다.\n",
      "\n",
      "30번째 페이지부터 크롤링을 시작합니다.\n",
      "\n",
      "40번째 페이지부터 크롤링을 시작합니다.\n",
      "\n",
      "50번째 페이지부터 크롤링을 시작합니다.\n",
      "\n",
      "60번째 페이지부터 크롤링을 시작합니다.\n",
      "\n",
      "70번째 페이지부터 크롤링을 시작합니다.\n",
      "\n",
      "80번째 페이지부터 크롤링을 시작합니다.\n",
      "\n",
      "90번째 페이지부터 크롤링을 시작합니다.\n"
     ]
    }
   ],
   "source": [
    "titles = []\n",
    "\n",
    "driver = webdriver.Chrome()   \n",
    "\n",
    "\n",
    "while current_call <= last_call:\n",
    "    \n",
    "    print('\\n{}번째 페이지부터 크롤링을 시작합니다.'.format(current_call))\n",
    "    \n",
    "    base = 'https://www.google.com/search?q=' \n",
    "    query = '따릉이코스'\n",
    "    url = base + query + \"&start=\" +str(current_call)\n",
    "    \n",
    "    driver.get(url)\n",
    "\n",
    "    html = driver.page_source\n",
    "    soup = BeautifulSoup(html)\n",
    "    list_items = soup.find_all('div', {'class':'g'})\n",
    "\n",
    "    for item in list_items:\n",
    "        try:\n",
    "            title = item.find('h3').get_text()           \n",
    "             \n",
    "            titles.append(title)     \n",
    "            \n",
    "        except:\n",
    "            print('출력 불가 항목')\n",
    "    \n",
    "    time.sleep(5)\n",
    "    current_call +=10\n",
    "    \n",
    "    \n",
    "driver.close()  \n",
    "driver.quit() \n"
   ]
  },
  {
   "cell_type": "code",
   "execution_count": 15,
   "metadata": {},
   "outputs": [
    {
     "data": {
      "text/html": [
       "<div>\n",
       "<style scoped>\n",
       "    .dataframe tbody tr th:only-of-type {\n",
       "        vertical-align: middle;\n",
       "    }\n",
       "\n",
       "    .dataframe tbody tr th {\n",
       "        vertical-align: top;\n",
       "    }\n",
       "\n",
       "    .dataframe thead th {\n",
       "        text-align: right;\n",
       "    }\n",
       "</style>\n",
       "<table border=\"1\" class=\"dataframe\">\n",
       "  <thead>\n",
       "    <tr style=\"text-align: right;\">\n",
       "      <th></th>\n",
       "      <th>Title</th>\n",
       "    </tr>\n",
       "  </thead>\n",
       "  <tbody>\n",
       "    <tr>\n",
       "      <th>0</th>\n",
       "      <td>서울자전거 따릉이를 타고 둘러보는 서울 투어 - 서울관광</td>\n",
       "    </tr>\n",
       "    <tr>\n",
       "      <th>1</th>\n",
       "      <td>가을 바람 따라~ 따릉이 타기 좋은 라이딩 코스 4곳 | 서울시 - 내 ...</td>\n",
       "    </tr>\n",
       "    <tr>\n",
       "      <th>2</th>\n",
       "      <td>[서울사랑] '따릉이'로 서울 여행! 추천코스 3선 | 서울시 정보소통 ...</td>\n",
       "    </tr>\n",
       "    <tr>\n",
       "      <th>3</th>\n",
       "      <td>따릉이로 달리기 좋은 자전거 코스 4 | 대학내일</td>\n",
       "    </tr>\n",
       "    <tr>\n",
       "      <th>4</th>\n",
       "      <td>서울 #따릉이 여행 코스 3 | 1boon</td>\n",
       "    </tr>\n",
       "  </tbody>\n",
       "</table>\n",
       "</div>"
      ],
      "text/plain": [
       "                                         Title\n",
       "0              서울자전거 따릉이를 타고 둘러보는 서울 투어 - 서울관광\n",
       "1  가을 바람 따라~ 따릉이 타기 좋은 라이딩 코스 4곳 | 서울시 - 내 ...\n",
       "2  [서울사랑] '따릉이'로 서울 여행! 추천코스 3선 | 서울시 정보소통 ...\n",
       "3                  따릉이로 달리기 좋은 자전거 코스 4 | 대학내일\n",
       "4                      서울 #따릉이 여행 코스 3 | 1boon"
      ]
     },
     "execution_count": 15,
     "metadata": {},
     "output_type": "execute_result"
    }
   ],
   "source": [
    "google_article_df = pd.DataFrame(titles)\n",
    "\n",
    "google_article_df.rename(columns = {0 : 'Title'}, inplace = True)\n",
    "\n",
    "google_article_df.to_csv('따릉이_google_keywords.csv', index=False, encoding='utf-8')\n",
    "google_article_df.head()   "
   ]
  },
  {
   "cell_type": "markdown",
   "metadata": {},
   "source": [
    "### 4. 유튜브 제목 크롤링"
   ]
  },
  {
   "cell_type": "code",
   "execution_count": 16,
   "metadata": {},
   "outputs": [],
   "source": [
    "keyword = '따릉이 브이로그'\n",
    "url = 'https://www.youtube.com/results?search_query={}'.format(keyword)"
   ]
  },
  {
   "cell_type": "code",
   "execution_count": 17,
   "metadata": {},
   "outputs": [],
   "source": [
    "driver = webdriver.Chrome() \n",
    "driver.implicitly_wait(1)   # 크롬 브라우저 내부 대기\n",
    "driver.get(url)\n",
    "\n",
    "\n",
    "body = driver.find_element_by_tag_name('body')   #'tag name'을 통해 element에 접근\n",
    "num_of_pagedowns = 100               \n",
    "\n",
    "while num_of_pagedowns:                         # 페이지 스크롤 - 스크롤 내려서 동영상 목록 가져오기\n",
    "    body.send_keys(Keys.PAGE_DOWN)\n",
    "    time.sleep(2)\n",
    "    num_of_pagedowns -= 1\n",
    "\n",
    "    \n",
    "soup = BeautifulSoup(driver.page_source, 'html.parser')\n",
    "youtube_title = soup.select('#video-title > yt-formatted-string')\n",
    "\n",
    "driver.close()\n",
    "driver.quit()"
   ]
  },
  {
   "cell_type": "code",
   "execution_count": 18,
   "metadata": {},
   "outputs": [],
   "source": [
    "youtube_title_list = []"
   ]
  },
  {
   "cell_type": "code",
   "execution_count": 19,
   "metadata": {},
   "outputs": [],
   "source": [
    "for tag in youtube_title:\n",
    "    youtube_title_list.append(tag.get_text().strip())    "
   ]
  },
  {
   "cell_type": "code",
   "execution_count": 6,
   "metadata": {},
   "outputs": [
    {
     "data": {
      "text/plain": [
       "['(SUB) VLOGㅣ잔잔한 자취생 브이로그 (공부, 카누라떼, 따릉이, 비빔국수)',\n",
       " '( 구블로그#02 📹 ) 서울에서 따릉이 타고 논 VLOG(브이로그) / 따릉이 대여하는 법 / 따릉이 코스',\n",
       " 'VLOG | 🚲한강에서 따릉이타는 브이로그  | 지은 Jieun',\n",
       " '[퇴근후 브이로그] 더키버니랑 함께, 따릉이 첫도전!',\n",
       " '[VLOG] 일상 브이로그 | 직장인 브이로그 | 언박싱｜늦잠지옥｜주말치팅(?)｜뮤지컬｜따릉이 늦바람｜cos｜보건옥｜잠수교집｜먹로그 (잠봉뵈르,타코야키,소고기해장국, bbq 핫윙)',\n",
       " '따릉이와 함께 한 퇴근길 브이로그',\n",
       " '한강 첫 따릉이 브이로그 (Feat.한강 치맥)',\n",
       " 'Vlog. 4월 마지막 주 브이로그.따릉이타고 한강라이딩! 갈릭버터파스타도해먹고 여유를 조금씩 찾아 가보자',\n",
       " '직장인 브이로그 - 따릉이와 함께한 하루, 따릉이 출퇴근🚴\\u200d♀️',\n",
       " '히부vlog. 직장인 브이로그, 따릉이와 한강 데이트, 일하는 평일과 노는 주말',\n",
       " '[vlog] 도시락 싸서 따릉이 타고 한강가기🚲. 홍제천에서 난지한강공원까지 씽씽 달려! 계란샌드위치, 자두잼, 딸기. 자매 브이로그. 일상 브이로그.',\n",
       " '따릉이로 서울 골목길 여행을 해보는 브이로그(feat.*킨 도넛)',\n",
       " '생각보다 심각한 상태인 요즘 아이돌들 무대수준ㄷㄷ(이건 아니지...)',\n",
       " 'study with me • 밤에 집에서 같이 공부해요 • real time • 장작 타는 소리 • fire crackling',\n",
       " '1000만원짜리 자전거로 만원짜리 자전거 참교육하기 ㅋㅋㅋㅋㅋㅋ [ 그들의 삶 2탄 : 자전거편 with 권재관 ] 공대생 변승주',\n",
       " '[한강라이딩] 잔낙이 눈돌아 가요~~~',\n",
       " '따릉이 타고 가서 마트 장보기 브이로그',\n",
       " 'Vlog. 뜽자매 브이로그-  예배. 한강. 따릉이. 젠틀몬스터. 곱창. 앨리웨이. 성수미술관. 드로잉. 새학기 준비. 고기리 막국수.',\n",
       " 'VLOG I 한강 자전거 라이딩 브이로그 (feat. 따릉이, 라면 먹방)',\n",
       " '[VLOG] ☀️한강 브이로그☀️ | 뚝섬유원지 | 따릉이 초보 | 운수 좋은 날 | Han-river vlog',\n",
       " 'Eng | 브이로그 | 요즘읽는 책 | 트렌치자켓 | 뮤지컬 팬텀 | 따릉이 | 건강검진 | 가지맛오이고추🍆🌶',\n",
       " '남산라이딩을 따릉이로? 허벅지 불 타는 남산 오르막길 브이로그',\n",
       " '[동자커플] 따릉이 라이딩, 뚝섬한강공원 피크닉 브이로그',\n",
       " '[일숲🌲브이로그] 따릉이로 퇴근하기',\n",
       " '[VLOG] 간호학과 브이로그/사이버강의💻듣고 알바하고 따릉이🚲타는 일상',\n",
       " '브이로그일상❤ 따릉이타고 한강가서 라면 먹고 온 한강브이로그 ! 서브웨이도 가고 이차돌도 다녀왔습니다 😊',\n",
       " '[일상vlog] 직장인 브이로그|한강에서 따릉이 타는 일상|',\n",
       " '[vlog-한강따릉이🚴🏻\\u200d♀️]',\n",
       " '브이로그 VLOG-따릉이 자전거타기',\n",
       " '[브이로그] 아직은 추운 3월 초, 한강 따릉이 자전거 타기',\n",
       " '이번 영상제목은 데이트 브이로그를 곁들인 카페 출근브이로그 l 전기자전거로 출근부터 데이트까지 l 홍준vlog',\n",
       " '서울 브이로그 / 따릉이자전거 / 올림픽공원 / 쇼핑 / 홈쿡 / 카페 / 나들이',\n",
       " '휴학생 브이로그 | 한강에서 라면먹고 뿌링클 먹고 따릉이 타고 | 절친 생일 기념 어벤져스 3회차 | vlog26',\n",
       " 'vlog | 집밥 브이로그, 따릉이 타고 한강, 보드게임, 식물 키우기',\n",
       " '날 좋은 날 따릉이 타는 브이로그 | 영팔X따릉 JOUR 1',\n",
       " 'vlog 지난 여름 남겨둔 브이로그 영상/청도 캠핑/따릉이/창동꽃시장/공차',\n",
       " '[동그램 브이로그/vlog] 화창한 주말 한강 데이트 / 따릉이 자전거 데이트 / 월요일 퇴근 후 여유부리기',\n",
       " '내용없는 한강 브이로그(따릉이타고Vlog)',\n",
       " '집콕하는 브이로그 #달고나커피 #따릉이 #댕댕이',\n",
       " '🎥 002 || 도쿄직장인브이로그 || 일본따릉이 (일본렌탈자전거 ; シェアサイクル) 타기 / 츄카가이 에서 샤오롱바오 먹는 일상  || TOKYO VLOG',\n",
       " '[VLOG #44] 평범한 일상 브이로그 (따릉이 타고 벚꽃 라이딩.. 자전거 타다가 넘어짐😭| 초간단 마늘빵 만들기 | 허접 홈카페 딸바스무디와 바질페스토&크림치즈 딸기 토스트)',\n",
       " '따릉이타기/브이로그/대전/서울/일상',\n",
       " '[vlog] 따릉이 경주여행 브이로그🌿 | 대릉원,도깨비명당,월정교,솔거미술관,황리단길카페,경주맛집',\n",
       " '[EDK브이로그] 따릉이 타보기',\n",
       " '다이어트 브이로그 | 자꾸 먹는 다이어터의 배란기(168cm 58kg, 따릉이, 가지덮밥, 오이도 조개구이, 어게인리프레쉬 샐러드)',\n",
       " '[VLOG]진제이 브이로그 #8 한강 따릉이 데이트 (feat.한강 라면)',\n",
       " '[Vlog.브이로그]산책/따릉이/뚝섬유원지/한강/서울숲/자전거',\n",
       " '[우너브이로그] 따릉이타고 카페가는 여정 - 한강,성산대교,양화대교,선유도공원을 건너 카페로 가며 소소한 한자 배우기',\n",
       " '[VLOG]일상 브이로그 - 서울숲 데이트(ft.따릉이), 성수동 카페, 광장시장 투어, 이삿짐 싸기, 김장하기, 먹방(삼겹살, 동아냉면, 마약김밥, 빈대떡, 동동주,쭈꾸미,보쌈)',\n",
       " '한강 따릉이 V.log + 서브웨이 다이어트 꿀팁 ʕ•ᴥ•ʔ',\n",
       " '🎬 요즘 브이로그(짧은 브이로그, 크리스천 일상, 따릉이, 낙지라면, 산책, 성경공부 준비, 문구, 언박싱)',\n",
       " '[vlog] 직장인 브이로그 퇴근 후 따릉이타고 여의도 한강공원가기',\n",
       " '한강 브이로그 친구랑 | 따릉이 타고 일상 브이로그, 서울에 살면서도 아직 안타봤다고? | 이앉',\n",
       " '브이로그 vlog | 수현몬과 함께 하는 하루 #따릉이',\n",
       " '08년생 브이로그 | VLOG | 따릉이 타고 한강 | 머랭쿠키',\n",
       " 'vlog #2 일상 브이로그( 개강, 스팸샌드위치, 따릉이,놀러나가기,빵순이의 빵먹빵, 치위생학과,가방)',\n",
       " '[브이로그] 따릉이데이트 #데이트 #따릉이 #한강달리자',\n",
       " '[vlog]남고생 이른 아침 따릉이 운동🚴🏻 브이로그/순댓국 먹방/Ride a bike at the han river',\n",
       " 'VLOG_005_브이로그_아픈 혜성이를 보러 따릉이 타고 한강을 건너 프릳츠에서 빵사서 가는 길',\n",
       " '일상브이로그-VLOG[따릉이타고퇴근하기/따릉이/자전거/직장인브이로그/브이로그/한강/라면/맥주/치킨/오징어/낮술/음주로그/먹방',\n",
       " '[일상VLOG] 쏠♡호 | 운동 브이로그 | 등산 | 따릉이 | 공차 | 병원 | 점심 | 쇼핑 | 카페 | 플랭크',\n",
       " '[VLOG] 어느 날의 찜질방 데이트 후 따릉이타는 브이로그_멍청로그',\n",
       " '[임고생 브이로그] - 집공에 너무 익숙해진 임고생 일상 | 수직촬영 거치대 언박싱 | 따릉이타고 과외가기 (Study Vlog)',\n",
       " '[VLOG # 1 첫번째 브이로그! 따릉이 한강 라이딩🚲 / 이태원 / 집들이까지 갔다 왔어요]',\n",
       " 'VLOG | 직장인 브이로그, 따릉이 출퇴근, 리얼아몬드 챙겨마시는 일상',\n",
       " 'VLOG│퇴사 직장인 브이로그│서울시 따릉이 자전거 라이딩 영상 무편집',\n",
       " '[단편 브이로그] 재택근무와 그의 따릉이 - 1',\n",
       " '브이로그 | 봄옷 소개 | 감태주먹밥 | 데이브레이크 | 따릉이타고 도서관 | 비즈 공예 | 우래옥',\n",
       " '다이어트 브이로그 | 두부 요리 해 먹고 따릉이 타고 출근하기🚲(마파두부,직장인 브이로그,두부만두 실패,새우볶음밥,168cm 57kg)',\n",
       " '아침 산책 브이로그 | 따릉이 | 자전거 타기 | 힐링 | 고등학생 | VLOG |',\n",
       " '[VLOG] 일상 취미 브이로그 | 따릉이로 한강부터 중랑천 우이천까지 라이딩 | 자전거 | bicycle riding in Seoul |Han river|life in Korea',\n",
       " '히원 일상 브이로그 - 생일선물로 닌텐도스위치, 따릉이 타고 다운타우너 버거부터 텐동까지 맛집 부수기',\n",
       " '🤸\\u200d♀️ISFJ 둘이 만나면?🤸\\u200d♀️ 그녀들의 따릉이 VLOG | 따릉이자전거｜한강브이로그｜평범한쪼리｜망원한강공원',\n",
       " '오늘의 (잠실 송리단길 따릉이 한강) 일상브이로그 Daily Vlog',\n",
       " '신혼부부 일상 브이로그 | 한강에서 따릉이 타기',\n",
       " 'VLOG/ 브이로그/ 왕십리에서 성수까지/ 따릉이/ 왕십리맛집 신기소플러스/ 노티드성수피치스/ 성수카페 옹근달',\n",
       " '[vlog] 부부의 주말 일상 브이로그-홍대 연남동 놀러가기,따릉이타고 한강가서 저녁먹ㄱㅣ',\n",
       " '따릉이 타는 브이로그지만 따릉이는 안타고 놀기만 하는 브이로그ㅣ김쪼 VLOG']"
      ]
     },
     "execution_count": 6,
     "metadata": {},
     "output_type": "execute_result"
    }
   ],
   "source": [
    "youtube_title_list"
   ]
  },
  {
   "cell_type": "code",
   "execution_count": 20,
   "metadata": {},
   "outputs": [
    {
     "data": {
      "text/html": [
       "<div>\n",
       "<style scoped>\n",
       "    .dataframe tbody tr th:only-of-type {\n",
       "        vertical-align: middle;\n",
       "    }\n",
       "\n",
       "    .dataframe tbody tr th {\n",
       "        vertical-align: top;\n",
       "    }\n",
       "\n",
       "    .dataframe thead th {\n",
       "        text-align: right;\n",
       "    }\n",
       "</style>\n",
       "<table border=\"1\" class=\"dataframe\">\n",
       "  <thead>\n",
       "    <tr style=\"text-align: right;\">\n",
       "      <th></th>\n",
       "      <th>Title</th>\n",
       "    </tr>\n",
       "  </thead>\n",
       "  <tbody>\n",
       "    <tr>\n",
       "      <th>0</th>\n",
       "      <td>( 구블로그#02 📹 ) 서울에서 따릉이 타고 논 VLOG(브이로그) / 따릉이 대...</td>\n",
       "    </tr>\n",
       "    <tr>\n",
       "      <th>1</th>\n",
       "      <td>[퇴근후 브이로그] 더키버니랑 함께, 따릉이 첫도전!</td>\n",
       "    </tr>\n",
       "    <tr>\n",
       "      <th>2</th>\n",
       "      <td>[VLOG] 일상 브이로그 | 직장인 브이로그 | 언박싱｜늦잠지옥｜주말치팅(?)｜뮤...</td>\n",
       "    </tr>\n",
       "    <tr>\n",
       "      <th>3</th>\n",
       "      <td>Vlog. 4월 마지막 주 브이로그.따릉이타고 한강라이딩! 갈릭버터파스타도해먹고 여...</td>\n",
       "    </tr>\n",
       "    <tr>\n",
       "      <th>4</th>\n",
       "      <td>(SUB) VLOGㅣ잔잔한 자취생 브이로그 (공부, 카누라떼, 따릉이, 비빔국수)</td>\n",
       "    </tr>\n",
       "  </tbody>\n",
       "</table>\n",
       "</div>"
      ],
      "text/plain": [
       "                                               Title\n",
       "0  ( 구블로그#02 📹 ) 서울에서 따릉이 타고 논 VLOG(브이로그) / 따릉이 대...\n",
       "1                      [퇴근후 브이로그] 더키버니랑 함께, 따릉이 첫도전!\n",
       "2  [VLOG] 일상 브이로그 | 직장인 브이로그 | 언박싱｜늦잠지옥｜주말치팅(?)｜뮤...\n",
       "3  Vlog. 4월 마지막 주 브이로그.따릉이타고 한강라이딩! 갈릭버터파스타도해먹고 여...\n",
       "4      (SUB) VLOGㅣ잔잔한 자취생 브이로그 (공부, 카누라떼, 따릉이, 비빔국수)"
      ]
     },
     "execution_count": 20,
     "metadata": {},
     "output_type": "execute_result"
    }
   ],
   "source": [
    "youtube_df = pd.DataFrame(youtube_title_list)\n",
    "youtube_df.rename(columns = {0 : 'Title'}, inplace = True)\n",
    "\n",
    "youtube_df.to_csv('따릉이_Youtube_keywords.csv', encoding='', index=False)\n",
    "\n",
    "youtube_df.head()"
   ]
  },
  {
   "cell_type": "markdown",
   "metadata": {},
   "source": [
    "### 5. 브런치 크롤링"
   ]
  },
  {
   "cell_type": "code",
   "execution_count": 22,
   "metadata": {},
   "outputs": [
    {
     "name": "stdout",
     "output_type": "stream",
     "text": [
      "https://brunch.co.kr/search\n"
     ]
    }
   ],
   "source": [
    "driver = webdriver.Chrome()\n",
    "\n",
    "url = 'https://brunch.co.kr/search?q=%EB%94%B0%EB%A6%89%EC%9D%B4&type=article'\n",
    "    \n",
    "driver.get(url) \n",
    "print(driver.current_url)"
   ]
  },
  {
   "cell_type": "code",
   "execution_count": 23,
   "metadata": {},
   "outputs": [
    {
     "name": "stdout",
     "output_type": "stream",
     "text": [
      "300\n",
      "1068\n",
      "1622\n",
      "2213\n",
      "2803\n",
      "4181\n",
      "7133\n",
      "7723\n",
      "8117\n",
      "['']\n"
     ]
    }
   ],
   "source": [
    "driver.get(url)\n",
    "\n",
    "last_height = driver.execute_script(\"return document.body.scrollHeight\")  \n",
    "\n",
    "while True: \n",
    "    driver.execute_script(\"window.scrollTo(0, document.body.scrollHeight);\")   # execute_script 함수 사용 (자바스크립트로 아이디, 패스워드를 넘겨줌)\n",
    "      \n",
    "    time.sleep(3)\n",
    "    new_height = driver.execute_script(\"return document.body.scrollHeight\") \n",
    "    print(last_height)\n",
    "\n",
    "    if new_height == last_height: \n",
    "        break\n",
    "    last_height = new_height\n",
    "\n",
    "source = BeautifulSoup(driver.page_source, 'html.parser')         # 페이지의 elements모두 가져오기\n",
    "brunch_tags = source.find_all('a', {'class' : 'tit_subject'}) \n",
    "tag_list = ['']\n",
    "for tag in brunch_tags:\n",
    "    tag_info = tag.get_text()\n",
    "    tag_info = tag_info.replace('#', '')\n",
    "    tag_list.append(tag_info)\n",
    "print(tag_list)\n",
    "\n",
    "driver.close()\n",
    "driver.quit()"
   ]
  },
  {
   "cell_type": "code",
   "execution_count": 24,
   "metadata": {},
   "outputs": [
    {
     "data": {
      "text/plain": [
       "[<strong class=\"tit_subject\"><b>따릉이</b>가 가져다준 것 - 전에 보지 못하던 것이 보이기 시작했다.</strong>,\n",
       " <strong class=\"tit_subject\">'<b>따릉이</b>' 적자 논란, '이름 붙이기'는 왜 위험한가! - 5월 5일 뉴스공장 인터뷰</strong>,\n",
       " <strong class=\"tit_subject\"><b>따릉이</b>는 낭만적이지 못해 - 달을 쏘다.</strong>,\n",
       " <strong class=\"tit_subject\">쓰레기 더미 <b>따릉이</b> 보관소 - 나팔꽃</strong>,\n",
       " <strong class=\"tit_subject\"><b>따릉이</b>의 마법 - 페달을 밟는 시기</strong>,\n",
       " <strong class=\"tit_subject\"><b>따릉이</b>로 자전거 배우기 - 서른 다섯, 드디어 자전거를 마스터하다. 그것도 독학으로!</strong>,\n",
       " <strong class=\"tit_subject\"><b>따릉이</b>와 여유의 다섯 - 이번 가을은 <b>따릉이</b> 덕에 빛났다</strong>,\n",
       " <strong class=\"tit_subject\">주말엔 <b>따릉이</b></strong>,\n",
       " <strong class=\"tit_subject\">이사, 그리고 <b>따릉이</b> - 새 술은 새 부대에. 환경이 변하니 일상이 달라졌다.</strong>,\n",
       " <strong class=\"tit_subject\">(2) <b>따릉이</b>를 타고 출근해보자 - 자전거 우선 도로엔 왜 자전거가 없죠?</strong>,\n",
       " <strong class=\"tit_subject\"><b>따릉이</b>와 헬멧 - <b>따릉이</b> 라이딩 = 헬멧 필수</strong>,\n",
       " <strong class=\"tit_subject\"><b>따릉이</b>를 타며 국가의 역할에 관해 묻다.</strong>,\n",
       " <strong class=\"tit_subject\">9월 28일, 월요일 휴가 - 도망친 여자, <b>따릉이</b>, 그리고...</strong>,\n",
       " <strong class=\"tit_subject\">이준석과 <b>따릉이</b></strong>,\n",
       " <strong class=\"tit_subject\"><b>따릉이</b> 출퇴근의 묘미 - 내가 <b>따릉이</b>로 출근, 퇴근하며 하는 것들</strong>,\n",
       " <strong class=\"tit_subject\"><b>따릉이</b> 연간 회원권 - 든든한 나의 이동수단</strong>,\n",
       " <strong class=\"tit_subject\"><b>따릉이</b>를 타고 도서관에 가는 걸 좋아합니다. - 이런 게 내 취향, 그리고 코로나</strong>,\n",
       " <strong class=\"tit_subject\"><b>따릉이</b>도 괜찮은데?</strong>,\n",
       " <strong class=\"tit_subject\">공유자전거 <b>따릉이</b> 예찬론 - 어디든 쉽고 빠르게 갈 수 있는 것이 주는 힘</strong>,\n",
       " <strong class=\"tit_subject\">서울시의 자랑! 공공 자전거 서비스 ‘서울자전거 <b>따릉이</b></strong>,\n",
       " <strong class=\"tit_subject\">사소한 <b>따릉이</b> 매너 - 기왕이면 해주면 좋음</strong>,\n",
       " <strong class=\"tit_subject\">한강, <b>따릉이</b>, 잡념 - 서사적인 존재란 무엇인가</strong>,\n",
       " <strong class=\"tit_subject\">자전거와 전동킥보드 - 천천히 가도 난 <b>따릉이</b>가 좋더라</strong>,\n",
       " <strong class=\"tit_subject\">스물 하나, 다시 운전 연습 - <b>따릉이</b>에서 부릉이로</strong>,\n",
       " <strong class=\"tit_subject\">박원순 시장이 돌아가신 날 경찰서에 가다. - 박원순 서울 특별시장, 서울로 7017, <b>따릉이</b>, 문화 비축기지, 원순씨</strong>,\n",
       " <strong class=\"tit_subject\"><b>따릉이</b> 출퇴근을 하다. - 자전거를 타고 붕붕</strong>,\n",
       " <strong class=\"tit_subject\">함께 타는 서울자전거! <b>따릉이</b></strong>,\n",
       " <strong class=\"tit_subject\">착한 <b>따릉이</b> 사용법 - <b>따릉이</b> 일일권 대여 정보</strong>,\n",
       " <strong class=\"tit_subject\">서울시의 자전거 대여 서비스 <b>따릉이</b>를 아시나요?</strong>,\n",
       " <strong class=\"tit_subject\"><b>따릉이</b> 완전초보를 위한 입문기 - 이동시간이 곧 여행인 행복한 경험! 서울자전거 ‘<b>따릉이</b>’</strong>,\n",
       " <strong class=\"tit_subject\">자전거로 맞는 차가운 바람 - 서울 자전거 <b>따릉이</b> 체험기</strong>,\n",
       " <strong class=\"tit_subject\">JUN 15, 2021 - <b>따릉이</b>가 생겼다</strong>,\n",
       " <strong class=\"tit_subject\">딱 '한 시간' <b>따릉이</b> 입문기 - 매일아침저널 2-24 따릉아 있어줘서 고맙다</strong>,\n",
       " <strong class=\"tit_subject\">현충원 '동작 충효길' 따라 서달산, 중앙대까지.... - 현충원, 봄나물, <b>따릉이</b>, 서달산, 고구동산, 중앙대, 컵밥, 어반스케치</strong>,\n",
       " <strong class=\"tit_subject\">[알쓸다정] 서울시 공공자전거 ‘<b>따릉이</b>’ 이용방법 - 회원가입 없이 인증번호로 입력으로 이용가능!</strong>,\n",
       " <strong class=\"tit_subject\">내게 놀라운 기술 혁신은, <b>따릉이</b>와 빨래방에 있었다 - 기술보다 중요한 건 어떻게 그 기술이 쓰이는지가 아닐까.</strong>,\n",
       " <strong class=\"tit_subject\">날으는 서울 - 청계천 <b>따릉이</b></strong>,\n",
       " <strong class=\"tit_subject\">2500km + a 오늘도 <b>따릉이</b>를 탄다. - 건강한 사색의 시간.</strong>,\n",
       " <strong class=\"tit_subject\"><b>따릉이</b> 떼의 공격 - 서울, 오늘 날씨는 맑음</strong>,\n",
       " <strong class=\"tit_subject\">‘<b>따릉이</b>’ 2만대 시대 개막! 무엇 무엇이 바뀔까? - by 서울씨 (커버사진 ⓒ서울시 시민기자 박혜민)</strong>]"
      ]
     },
     "execution_count": 24,
     "metadata": {},
     "output_type": "execute_result"
    }
   ],
   "source": [
    "source.find_all('strong', {'class':'tit_subject'})"
   ]
  },
  {
   "cell_type": "code",
   "execution_count": 25,
   "metadata": {},
   "outputs": [
    {
     "data": {
      "text/plain": [
       "'따릉이가 가져다준 것 - 전에 보지 못하던 것이 보이기 시작했다.'"
      ]
     },
     "execution_count": 25,
     "metadata": {},
     "output_type": "execute_result"
    }
   ],
   "source": [
    "source.find_all('strong', {'class':'tit_subject'})[0].get_text()"
   ]
  },
  {
   "cell_type": "code",
   "execution_count": 26,
   "metadata": {},
   "outputs": [
    {
     "name": "stdout",
     "output_type": "stream",
     "text": [
      "['따릉이가 가져다준 것 - 전에 보지 못하던 것이 보이기 시작했다.', \"'따릉이' 적자 논란, '이름 붙이기'는 왜 위험한가! - 5월 5일 뉴스공장 인터뷰\", '따릉이는 낭만적이지 못해 - 달을 쏘다.', '쓰레기 더미 따릉이 보관소 - 나팔꽃', '따릉이의 마법 - 페달을 밟는 시기', '따릉이로 자전거 배우기 - 서른 다섯, 드디어 자전거를 마스터하다. 그것도 독학으로!', '따릉이와 여유의 다섯 - 이번 가을은 따릉이 덕에 빛났다', '주말엔 따릉이', '이사, 그리고 따릉이 - 새 술은 새 부대에. 환경이 변하니 일상이 달라졌다.', '(2) 따릉이를 타고 출근해보자 - 자전거 우선 도로엔 왜 자전거가 없죠?', '따릉이와 헬멧 - 따릉이 라이딩 = 헬멧 필수', '따릉이를 타며 국가의 역할에 관해 묻다.', '9월 28일, 월요일 휴가 - 도망친 여자, 따릉이, 그리고...', '이준석과 따릉이', '따릉이 출퇴근의 묘미 - 내가 따릉이로 출근, 퇴근하며 하는 것들', '따릉이 연간 회원권 - 든든한 나의 이동수단', '따릉이를 타고 도서관에 가는 걸 좋아합니다. - 이런 게 내 취향, 그리고 코로나', '따릉이도 괜찮은데?', '공유자전거 따릉이 예찬론 - 어디든 쉽고 빠르게 갈 수 있는 것이 주는 힘', '서울시의 자랑! 공공 자전거 서비스 ‘서울자전거 따릉이', '사소한 따릉이 매너 - 기왕이면 해주면 좋음', '한강, 따릉이, 잡념 - 서사적인 존재란 무엇인가', '자전거와 전동킥보드 - 천천히 가도 난 따릉이가 좋더라', '스물 하나, 다시 운전 연습 - 따릉이에서 부릉이로', '박원순 시장이 돌아가신 날 경찰서에 가다. - 박원순 서울 특별시장, 서울로 7017, 따릉이, 문화 비축기지, 원순씨', '따릉이 출퇴근을 하다. - 자전거를 타고 붕붕', '함께 타는 서울자전거! 따릉이', '착한 따릉이 사용법 - 따릉이 일일권 대여 정보', '서울시의 자전거 대여 서비스 따릉이를 아시나요?', '따릉이 완전초보를 위한 입문기 - 이동시간이 곧 여행인 행복한 경험! 서울자전거 ‘따릉이’', '자전거로 맞는 차가운 바람 - 서울 자전거 따릉이 체험기', 'JUN 15, 2021 - 따릉이가 생겼다', \"딱 '한 시간' 따릉이 입문기 - 매일아침저널 2-24 따릉아 있어줘서 고맙다\", \"현충원 '동작 충효길' 따라 서달산, 중앙대까지.... - 현충원, 봄나물, 따릉이, 서달산, 고구동산, 중앙대, 컵밥, 어반스케치\", '[알쓸다정] 서울시 공공자전거 ‘따릉이’ 이용방법 - 회원가입 없이 인증번호로 입력으로 이용가능!', '내게 놀라운 기술 혁신은, 따릉이와 빨래방에 있었다 - 기술보다 중요한 건 어떻게 그 기술이 쓰이는지가 아닐까.', '날으는 서울 - 청계천 따릉이', '2500km + a 오늘도 따릉이를 탄다. - 건강한 사색의 시간.', '따릉이 떼의 공격 - 서울, 오늘 날씨는 맑음', '‘따릉이’ 2만대 시대 개막! 무엇 무엇이 바뀔까? - by 서울씨 (커버사진 ⓒ서울시 시민기자 박혜민)']\n"
     ]
    }
   ],
   "source": [
    "brunch_subjects = source.find_all('strong', {'class' : 'tit_subject'})\n",
    "\n",
    "subject_list = []\n",
    "\n",
    "for subject in brunch_subjects:\n",
    "    subject_list.append(subject.get_text())\n",
    "\n",
    "print(subject_list)"
   ]
  },
  {
   "cell_type": "code",
   "execution_count": 27,
   "metadata": {},
   "outputs": [
    {
     "data": {
      "text/html": [
       "<div>\n",
       "<style scoped>\n",
       "    .dataframe tbody tr th:only-of-type {\n",
       "        vertical-align: middle;\n",
       "    }\n",
       "\n",
       "    .dataframe tbody tr th {\n",
       "        vertical-align: top;\n",
       "    }\n",
       "\n",
       "    .dataframe thead th {\n",
       "        text-align: right;\n",
       "    }\n",
       "</style>\n",
       "<table border=\"1\" class=\"dataframe\">\n",
       "  <thead>\n",
       "    <tr style=\"text-align: right;\">\n",
       "      <th></th>\n",
       "      <th>Title</th>\n",
       "    </tr>\n",
       "  </thead>\n",
       "  <tbody>\n",
       "    <tr>\n",
       "      <th>0</th>\n",
       "      <td>따릉이가 가져다준 것 - 전에 보지 못하던 것이 보이기 시작했다.</td>\n",
       "    </tr>\n",
       "    <tr>\n",
       "      <th>1</th>\n",
       "      <td>'따릉이' 적자 논란, '이름 붙이기'는 왜 위험한가! - 5월 5일 뉴스공장 인터뷰</td>\n",
       "    </tr>\n",
       "    <tr>\n",
       "      <th>2</th>\n",
       "      <td>따릉이는 낭만적이지 못해 - 달을 쏘다.</td>\n",
       "    </tr>\n",
       "    <tr>\n",
       "      <th>3</th>\n",
       "      <td>쓰레기 더미 따릉이 보관소 - 나팔꽃</td>\n",
       "    </tr>\n",
       "    <tr>\n",
       "      <th>4</th>\n",
       "      <td>따릉이의 마법 - 페달을 밟는 시기</td>\n",
       "    </tr>\n",
       "  </tbody>\n",
       "</table>\n",
       "</div>"
      ],
      "text/plain": [
       "                                             Title\n",
       "0             따릉이가 가져다준 것 - 전에 보지 못하던 것이 보이기 시작했다.\n",
       "1  '따릉이' 적자 논란, '이름 붙이기'는 왜 위험한가! - 5월 5일 뉴스공장 인터뷰\n",
       "2                           따릉이는 낭만적이지 못해 - 달을 쏘다.\n",
       "3                             쓰레기 더미 따릉이 보관소 - 나팔꽃\n",
       "4                              따릉이의 마법 - 페달을 밟는 시기"
      ]
     },
     "execution_count": 27,
     "metadata": {},
     "output_type": "execute_result"
    }
   ],
   "source": [
    "brunchDic = {'Title' : subject_list}\n",
    "df_brunch = pd.DataFrame(brunchDic)\n",
    "df_brunch.to_csv('따릉이_brunch_keywords.csv', encoding='', index=False)\n",
    "\n",
    "df_brunch.head()"
   ]
  },
  {
   "cell_type": "code",
   "execution_count": null,
   "metadata": {},
   "outputs": [],
   "source": []
  },
  {
   "cell_type": "code",
   "execution_count": null,
   "metadata": {},
   "outputs": [],
   "source": []
  }
 ],
 "metadata": {
  "kernelspec": {
   "display_name": "Python 3",
   "language": "python",
   "name": "python3"
  },
  "language_info": {
   "codemirror_mode": {
    "name": "ipython",
    "version": 3
   },
   "file_extension": ".py",
   "mimetype": "text/x-python",
   "name": "python",
   "nbconvert_exporter": "python",
   "pygments_lexer": "ipython3",
   "version": "3.7.3"
  }
 },
 "nbformat": 4,
 "nbformat_minor": 2
}
